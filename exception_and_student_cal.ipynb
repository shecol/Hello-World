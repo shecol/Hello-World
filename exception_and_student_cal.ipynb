{
 "cells": [
  {
   "cell_type": "code",
   "execution_count": 3,
   "id": "c472ead6",
   "metadata": {},
   "outputs": [
    {
     "name": "stdout",
     "output_type": "stream",
     "text": [
      "첫번쨰 숫자 입력 : ㄱㄱ\n",
      "exception is raised\n"
     ]
    }
   ],
   "source": [
    "try :\n",
    "    first = int(input('첫번쨰 숫자 입력 : '))\n",
    "    second = int(input('두번째 숫자 입력 : '))\n",
    "    print('{} / {} = {}'.format(first,second, (first / second)))\n",
    "except :\n",
    "    print(\"exception is raised\")"
   ]
  },
  {
   "cell_type": "code",
   "execution_count": 23,
   "id": "8e2ca0da",
   "metadata": {},
   "outputs": [
    {
     "name": "stdout",
     "output_type": "stream",
     "text": [
      "20부터 100까지의 합은 4879입니다.\n",
      "1부터 100까지의 합은 5050입니다.\n",
      "1부터 50까지의 합은 1275입니다.\n"
     ]
    },
    {
     "data": {
      "text/plain": [
       "1275"
      ]
     },
     "execution_count": 23,
     "metadata": {},
     "output_type": "execute_result"
    }
   ],
   "source": [
    "def myfunction(first,last):\n",
    "    hap = first-1\n",
    "    for i in range (first, last+1) :\n",
    "        hap = hap + i\n",
    "    print(f\"{first}부터 {last}까지의 합은 {hap}입니다.\")\n",
    "    \n",
    "    return hap\n",
    "value = myfunction(20,100)  #call by value\n",
    "myfunction(1,100)\n",
    "myfunction(1,50)"
   ]
  },
  {
   "cell_type": "code",
   "execution_count": 26,
   "id": "64928ad4",
   "metadata": {},
   "outputs": [],
   "source": [
    "def student_input(student):\n",
    "    irum = input(\"Name :\")\n",
    "    kor = int(input(\"korean :\"))\n",
    "    eng = int(input(\"English :\"))\n",
    "    math = int(input(\"Math :\"))\n",
    "    student[\"irum\"] = irum\n",
    "    student[\"kor\"] = kor\n",
    "    student[\"eng\"] = eng\n",
    "    student[\"math\"] = math\n",
    "            "
   ]
  },
  {
   "cell_type": "code",
   "execution_count": 31,
   "id": "37bb83f4",
   "metadata": {},
   "outputs": [],
   "source": [
    "def student_calc(student):\n",
    "    tot = student[\"kor\"] + student[\"eng\"] + student[\"math\"]\n",
    "    avg = tot / 3\n",
    "    if 90 <= avg <= 100 : grade = \"A\"\n",
    "    elif 80 <= avg <= 90 : grade = \"B\"\n",
    "    elif 70 <= avg <= 80 : grade = \"C\"\n",
    "    elif 60 <= avg <= 70 : grade = \"D\"\n",
    "    else : grade = \"F\"\n",
    "    student[\"tot\"] = tot\n",
    "    student[\"avg\"] = avg\n",
    "    student[\"grade\"] = grade"
   ]
  },
  {
   "cell_type": "code",
   "execution_count": 38,
   "id": "695c54f3",
   "metadata": {},
   "outputs": [],
   "source": [
    "def student_output(student):\n",
    "    print('*******AWS High School******')\n",
    "    print(\"이름      국어      영어      수학      총점      평균      평점\")\n",
    "    print(f'{student[\"irum\"]}\\t{student[\"kor\"]}\\t{student[\"eng\"]}\\t{student[\"math\"]}\\t{student[\"tot\"]}', end='\\t')\n",
    "    print(f'{student[\"avg\"]:.2f}\\t{student[\"grade\"]}')"
   ]
  },
  {
   "cell_type": "code",
   "execution_count": 39,
   "id": "b5fdf051",
   "metadata": {},
   "outputs": [
    {
     "name": "stdout",
     "output_type": "stream",
     "text": [
      "Name :choyesol\n",
      "korean :100\n",
      "English :100\n",
      "Math :100\n",
      "*******AWS High School******\n",
      "이름      국어      영어      수학      총점      평균      평점\n",
      "choyesol\t100\t100\t100\t300\t100.00\tA\n"
     ]
    }
   ],
   "source": [
    "student = {}\n",
    "student_input(student)\n",
    "student_calc(student)\n",
    "student_output(student)"
   ]
  },
  {
   "cell_type": "code",
   "execution_count": null,
   "id": "dca1e1e0",
   "metadata": {},
   "outputs": [],
   "source": []
  }
 ],
 "metadata": {
  "kernelspec": {
   "display_name": "Python 3 (ipykernel)",
   "language": "python",
   "name": "python3"
  },
  "language_info": {
   "codemirror_mode": {
    "name": "ipython",
    "version": 3
   },
   "file_extension": ".py",
   "mimetype": "text/x-python",
   "name": "python",
   "nbconvert_exporter": "python",
   "pygments_lexer": "ipython3",
   "version": "3.11.4"
  }
 },
 "nbformat": 4,
 "nbformat_minor": 5
}
